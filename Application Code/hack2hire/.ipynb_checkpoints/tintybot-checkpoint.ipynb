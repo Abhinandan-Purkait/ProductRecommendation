{
 "cells": [
  {
   "cell_type": "code",
   "execution_count": 35,
   "metadata": {},
   "outputs": [],
   "source": [
    "import nltk\n",
    "from nltk.stem.lancaster import LancasterStemmer\n",
    "stemmer = LancasterStemmer()\n",
    "import numpy\n",
    "import tflearn\n",
    "import tensorflow\n",
    "import random\n",
    "import json\n",
    "#importing dependencies\n",
    "\n",
    "\n",
    "#importing the dataset\n",
    "with open('tintybot.json') as file:\n",
    "    data = json.load(file)\n",
    "\n",
    "    \n",
    "messg=[]\n",
    "lables=[]\n",
    "my_mssg_x=[]\n",
    "my_mssg_y=[]\n",
    "\n",
    "\n",
    "for intent in data[\"intents\"]:\n",
    "    #looping through all intents in the file\n",
    "    \n",
    "    for message in intent[\"messages\"]:\n",
    "        #looping through all messages in a particular intent\n",
    "        \n",
    "        msg=nltk.word_tokenize(message)\n",
    "        #extracting the root words from a phrase\n",
    "        \n",
    "        messg.extend(msg)\n",
    "        #adds in the form of character array\n",
    "        \n",
    "        my_mssg_x.append(message)\n",
    "        my_mssg_y.append(intent[\"tag\"])\n",
    "        #append all messages\n",
    "    \n",
    "    if intent[\"tag\"] not in lables:\n",
    "        lables.append(intent[\"tag\"])\n",
    "    \n",
    "\n",
    "    \n",
    "    \n",
    "#working all okay\n",
    "    "
   ]
  },
  {
   "cell_type": "code",
   "execution_count": 36,
   "metadata": {},
   "outputs": [
    {
     "name": "stdout",
     "output_type": "stream",
     "text": [
      "['greeting', 'goodbye', 'thanks', 'hours', 'payments', 'opentoday']\n",
      "['greeting', 'greeting', 'greeting', 'greeting', 'greeting', 'goodbye', 'goodbye', 'goodbye', 'thanks', 'thanks', 'thanks', 'hours', 'hours', 'hours', 'payments', 'payments', 'payments', 'opentoday', 'opentoday', 'opentoday']\n"
     ]
    }
   ],
   "source": [
    "#tutorial based\n",
    "import nltk\n",
    "#nltk.download('punkt')\n",
    "from nltk.stem.lancaster import LancasterStemmer\n",
    "stemmer = LancasterStemmer()\n",
    "\n",
    "import numpy\n",
    "import tflearn\n",
    "import tensorflow\n",
    "import random\n",
    "\n",
    "import json\n",
    "with open('intents.json') as file:\n",
    "    data = json.load(file)\n",
    "\n",
    "\n",
    "words = []\n",
    "labels = []\n",
    "docs_x = []\n",
    "docs_y = []\n",
    "\n",
    "for intent in data['intents']:\n",
    "    for pattern in intent['patterns']:\n",
    "        wrds = nltk.word_tokenize(pattern)\n",
    "        words.extend(wrds)\n",
    "        docs_x.append(wrds)\n",
    "        docs_y.append(intent[\"tag\"])\n",
    "        \n",
    "    if intent['tag'] not in labels:\n",
    "        labels.append(intent['tag'])\n",
    "        \n",
    "print(labels)\n",
    "print(docs_y)"
   ]
  },
  {
   "cell_type": "code",
   "execution_count": null,
   "metadata": {},
   "outputs": [],
   "source": []
  }
 ],
 "metadata": {
  "kernelspec": {
   "display_name": "Python 3",
   "language": "python",
   "name": "python3"
  },
  "language_info": {
   "codemirror_mode": {
    "name": "ipython",
    "version": 3
   },
   "file_extension": ".py",
   "mimetype": "text/x-python",
   "name": "python",
   "nbconvert_exporter": "python",
   "pygments_lexer": "ipython3",
   "version": "3.6.8"
  }
 },
 "nbformat": 4,
 "nbformat_minor": 2
}
